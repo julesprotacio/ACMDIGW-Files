{
  "nbformat": 4,
  "nbformat_minor": 0,
  "metadata": {
    "colab": {
      "provenance": [],
      "mount_file_id": "https://github.com/julesprotacio/ACMDIGW-Files/blob/main/Extracting_and_Saving_Data.ipynb",
      "authorship_tag": "ABX9TyN9PYhnpoEHwpJ/xJnbeFVV",
      "include_colab_link": true
    },
    "kernelspec": {
      "name": "python3",
      "display_name": "Python 3"
    },
    "language_info": {
      "name": "python"
    },
    "widgets": {
      "application/vnd.jupyter.widget-state+json": {
        "a6f47c472d064c8c99de53939f84cbbc": {
          "model_module": "@jupyter-widgets/controls",
          "model_name": "HBoxModel",
          "model_module_version": "1.5.0",
          "state": {
            "_dom_classes": [],
            "_model_module": "@jupyter-widgets/controls",
            "_model_module_version": "1.5.0",
            "_model_name": "HBoxModel",
            "_view_count": null,
            "_view_module": "@jupyter-widgets/controls",
            "_view_module_version": "1.5.0",
            "_view_name": "HBoxView",
            "box_style": "",
            "children": [
              "IPY_MODEL_5a073c148d73468a8e8361900bc044c9",
              "IPY_MODEL_93912d7b1906471da7ac1930e879547c",
              "IPY_MODEL_8a3f62f6ea8745de86c1ec9d3fae57ed"
            ],
            "layout": "IPY_MODEL_24ce3a761b5e484cae9a4646dddba2ca"
          }
        },
        "5a073c148d73468a8e8361900bc044c9": {
          "model_module": "@jupyter-widgets/controls",
          "model_name": "HTMLModel",
          "model_module_version": "1.5.0",
          "state": {
            "_dom_classes": [],
            "_model_module": "@jupyter-widgets/controls",
            "_model_module_version": "1.5.0",
            "_model_name": "HTMLModel",
            "_view_count": null,
            "_view_module": "@jupyter-widgets/controls",
            "_view_module_version": "1.5.0",
            "_view_name": "HTMLView",
            "description": "",
            "description_tooltip": null,
            "layout": "IPY_MODEL_e32b497ed409406798691768bb7e1d45",
            "placeholder": "​",
            "style": "IPY_MODEL_b48a1a4cc9b34e1ba7054c9ecefb0b08",
            "value": "100%"
          }
        },
        "93912d7b1906471da7ac1930e879547c": {
          "model_module": "@jupyter-widgets/controls",
          "model_name": "FloatProgressModel",
          "model_module_version": "1.5.0",
          "state": {
            "_dom_classes": [],
            "_model_module": "@jupyter-widgets/controls",
            "_model_module_version": "1.5.0",
            "_model_name": "FloatProgressModel",
            "_view_count": null,
            "_view_module": "@jupyter-widgets/controls",
            "_view_module_version": "1.5.0",
            "_view_name": "ProgressView",
            "bar_style": "success",
            "description": "",
            "description_tooltip": null,
            "layout": "IPY_MODEL_bb73130a7e6747caa01890e5aa9d5ef7",
            "max": 110,
            "min": 0,
            "orientation": "horizontal",
            "style": "IPY_MODEL_772df978c13b42f483556eee4a9f4c79",
            "value": 110
          }
        },
        "8a3f62f6ea8745de86c1ec9d3fae57ed": {
          "model_module": "@jupyter-widgets/controls",
          "model_name": "HTMLModel",
          "model_module_version": "1.5.0",
          "state": {
            "_dom_classes": [],
            "_model_module": "@jupyter-widgets/controls",
            "_model_module_version": "1.5.0",
            "_model_name": "HTMLModel",
            "_view_count": null,
            "_view_module": "@jupyter-widgets/controls",
            "_view_module_version": "1.5.0",
            "_view_name": "HTMLView",
            "description": "",
            "description_tooltip": null,
            "layout": "IPY_MODEL_699c5843f0df4680bb1d59f15414e6ae",
            "placeholder": "​",
            "style": "IPY_MODEL_54c38798cfec441996ab864bfdfa8c60",
            "value": " 110/110 [00:51&lt;00:00,  2.18it/s]"
          }
        },
        "24ce3a761b5e484cae9a4646dddba2ca": {
          "model_module": "@jupyter-widgets/base",
          "model_name": "LayoutModel",
          "model_module_version": "1.2.0",
          "state": {
            "_model_module": "@jupyter-widgets/base",
            "_model_module_version": "1.2.0",
            "_model_name": "LayoutModel",
            "_view_count": null,
            "_view_module": "@jupyter-widgets/base",
            "_view_module_version": "1.2.0",
            "_view_name": "LayoutView",
            "align_content": null,
            "align_items": null,
            "align_self": null,
            "border": null,
            "bottom": null,
            "display": null,
            "flex": null,
            "flex_flow": null,
            "grid_area": null,
            "grid_auto_columns": null,
            "grid_auto_flow": null,
            "grid_auto_rows": null,
            "grid_column": null,
            "grid_gap": null,
            "grid_row": null,
            "grid_template_areas": null,
            "grid_template_columns": null,
            "grid_template_rows": null,
            "height": null,
            "justify_content": null,
            "justify_items": null,
            "left": null,
            "margin": null,
            "max_height": null,
            "max_width": null,
            "min_height": null,
            "min_width": null,
            "object_fit": null,
            "object_position": null,
            "order": null,
            "overflow": null,
            "overflow_x": null,
            "overflow_y": null,
            "padding": null,
            "right": null,
            "top": null,
            "visibility": null,
            "width": null
          }
        },
        "e32b497ed409406798691768bb7e1d45": {
          "model_module": "@jupyter-widgets/base",
          "model_name": "LayoutModel",
          "model_module_version": "1.2.0",
          "state": {
            "_model_module": "@jupyter-widgets/base",
            "_model_module_version": "1.2.0",
            "_model_name": "LayoutModel",
            "_view_count": null,
            "_view_module": "@jupyter-widgets/base",
            "_view_module_version": "1.2.0",
            "_view_name": "LayoutView",
            "align_content": null,
            "align_items": null,
            "align_self": null,
            "border": null,
            "bottom": null,
            "display": null,
            "flex": null,
            "flex_flow": null,
            "grid_area": null,
            "grid_auto_columns": null,
            "grid_auto_flow": null,
            "grid_auto_rows": null,
            "grid_column": null,
            "grid_gap": null,
            "grid_row": null,
            "grid_template_areas": null,
            "grid_template_columns": null,
            "grid_template_rows": null,
            "height": null,
            "justify_content": null,
            "justify_items": null,
            "left": null,
            "margin": null,
            "max_height": null,
            "max_width": null,
            "min_height": null,
            "min_width": null,
            "object_fit": null,
            "object_position": null,
            "order": null,
            "overflow": null,
            "overflow_x": null,
            "overflow_y": null,
            "padding": null,
            "right": null,
            "top": null,
            "visibility": null,
            "width": null
          }
        },
        "b48a1a4cc9b34e1ba7054c9ecefb0b08": {
          "model_module": "@jupyter-widgets/controls",
          "model_name": "DescriptionStyleModel",
          "model_module_version": "1.5.0",
          "state": {
            "_model_module": "@jupyter-widgets/controls",
            "_model_module_version": "1.5.0",
            "_model_name": "DescriptionStyleModel",
            "_view_count": null,
            "_view_module": "@jupyter-widgets/base",
            "_view_module_version": "1.2.0",
            "_view_name": "StyleView",
            "description_width": ""
          }
        },
        "bb73130a7e6747caa01890e5aa9d5ef7": {
          "model_module": "@jupyter-widgets/base",
          "model_name": "LayoutModel",
          "model_module_version": "1.2.0",
          "state": {
            "_model_module": "@jupyter-widgets/base",
            "_model_module_version": "1.2.0",
            "_model_name": "LayoutModel",
            "_view_count": null,
            "_view_module": "@jupyter-widgets/base",
            "_view_module_version": "1.2.0",
            "_view_name": "LayoutView",
            "align_content": null,
            "align_items": null,
            "align_self": null,
            "border": null,
            "bottom": null,
            "display": null,
            "flex": null,
            "flex_flow": null,
            "grid_area": null,
            "grid_auto_columns": null,
            "grid_auto_flow": null,
            "grid_auto_rows": null,
            "grid_column": null,
            "grid_gap": null,
            "grid_row": null,
            "grid_template_areas": null,
            "grid_template_columns": null,
            "grid_template_rows": null,
            "height": null,
            "justify_content": null,
            "justify_items": null,
            "left": null,
            "margin": null,
            "max_height": null,
            "max_width": null,
            "min_height": null,
            "min_width": null,
            "object_fit": null,
            "object_position": null,
            "order": null,
            "overflow": null,
            "overflow_x": null,
            "overflow_y": null,
            "padding": null,
            "right": null,
            "top": null,
            "visibility": null,
            "width": null
          }
        },
        "772df978c13b42f483556eee4a9f4c79": {
          "model_module": "@jupyter-widgets/controls",
          "model_name": "ProgressStyleModel",
          "model_module_version": "1.5.0",
          "state": {
            "_model_module": "@jupyter-widgets/controls",
            "_model_module_version": "1.5.0",
            "_model_name": "ProgressStyleModel",
            "_view_count": null,
            "_view_module": "@jupyter-widgets/base",
            "_view_module_version": "1.2.0",
            "_view_name": "StyleView",
            "bar_color": null,
            "description_width": ""
          }
        },
        "699c5843f0df4680bb1d59f15414e6ae": {
          "model_module": "@jupyter-widgets/base",
          "model_name": "LayoutModel",
          "model_module_version": "1.2.0",
          "state": {
            "_model_module": "@jupyter-widgets/base",
            "_model_module_version": "1.2.0",
            "_model_name": "LayoutModel",
            "_view_count": null,
            "_view_module": "@jupyter-widgets/base",
            "_view_module_version": "1.2.0",
            "_view_name": "LayoutView",
            "align_content": null,
            "align_items": null,
            "align_self": null,
            "border": null,
            "bottom": null,
            "display": null,
            "flex": null,
            "flex_flow": null,
            "grid_area": null,
            "grid_auto_columns": null,
            "grid_auto_flow": null,
            "grid_auto_rows": null,
            "grid_column": null,
            "grid_gap": null,
            "grid_row": null,
            "grid_template_areas": null,
            "grid_template_columns": null,
            "grid_template_rows": null,
            "height": null,
            "justify_content": null,
            "justify_items": null,
            "left": null,
            "margin": null,
            "max_height": null,
            "max_width": null,
            "min_height": null,
            "min_width": null,
            "object_fit": null,
            "object_position": null,
            "order": null,
            "overflow": null,
            "overflow_x": null,
            "overflow_y": null,
            "padding": null,
            "right": null,
            "top": null,
            "visibility": null,
            "width": null
          }
        },
        "54c38798cfec441996ab864bfdfa8c60": {
          "model_module": "@jupyter-widgets/controls",
          "model_name": "DescriptionStyleModel",
          "model_module_version": "1.5.0",
          "state": {
            "_model_module": "@jupyter-widgets/controls",
            "_model_module_version": "1.5.0",
            "_model_name": "DescriptionStyleModel",
            "_view_count": null,
            "_view_module": "@jupyter-widgets/base",
            "_view_module_version": "1.2.0",
            "_view_name": "StyleView",
            "description_width": ""
          }
        }
      }
    }
  },
  "cells": [
    {
      "cell_type": "markdown",
      "metadata": {
        "id": "view-in-github",
        "colab_type": "text"
      },
      "source": [
        "<a href=\"https://colab.research.google.com/github/julesprotacio/ACMDIGW-Files/blob/main/OG_Extracting_and_Saving_Data.ipynb\" target=\"_parent\"><img src=\"https://colab.research.google.com/assets/colab-badge.svg\" alt=\"Open In Colab\"/></a>"
      ]
    },
    {
      "cell_type": "code",
      "execution_count": null,
      "metadata": {
        "id": "8ASOkGuw7Mbs"
      },
      "outputs": [],
      "source": [
        "#Start of ACMDIGW\n",
        "#Start of extracting and saving data using Yelp API\n",
        "\n",
        "#crtl + / = comment\n",
        "# ctrl + enter = run code\n",
        "# crtl + m, b = add code block below\n",
        "# ctrl + m, a = add code block above\n"
      ]
    },
    {
      "cell_type": "code",
      "source": [
        "#connect GDRive\n",
        "from google.colab import drive\n",
        "drive.mount('/content/drive')"
      ],
      "metadata": {
        "id": "nKNalZAO_UuX",
        "colab": {
          "base_uri": "https://localhost:8080/"
        },
        "outputId": "15e1ed6f-5870-4fe6-ef4d-042043c1d7ab"
      },
      "execution_count": null,
      "outputs": [
        {
          "output_type": "stream",
          "name": "stdout",
          "text": [
            "Mounted at /content/drive\n"
          ]
        }
      ]
    },
    {
      "cell_type": "code",
      "source": [
        "# install yelpapi\n",
        "!pip install yelpapi --quiet"
      ],
      "metadata": {
        "id": "3umLFpxb_s_k"
      },
      "execution_count": null,
      "outputs": []
    },
    {
      "cell_type": "code",
      "source": [
        "# import libraries\n",
        "import pandas as pd\n",
        "import numpy as np\n",
        "import matplotlib.pyplot as plt\n",
        "import seaborn as sns\n",
        "\n",
        "#additional libraries\n",
        "import os, json, math, time\n",
        "from yelpapi import YelpAPI\n",
        "from tqdm.notebook import tqdm_notebook"
      ],
      "metadata": {
        "id": "0h2GfRs1A3rx"
      },
      "execution_count": null,
      "outputs": []
    },
    {
      "cell_type": "markdown",
      "source": [
        "Loading Credentials and Creating a YelpAPI Object\n",
        "\n"
      ],
      "metadata": {
        "id": "Ka1u_T1RBz7J"
      }
    },
    {
      "cell_type": "code",
      "source": [
        "# load yelp API Credentials and instantiate the  Yelp API object\n",
        "with open('/content/drive/MyDrive/Colab Notebooks/credentials/yelp_api.json') as file:\n",
        "  yelp_credentials = json.load(file)\n",
        "\n",
        "# create the yelp api engine\n",
        "yelp_api = YelpAPI(yelp_credentials)\n",
        "yelp_api = YelpAPI (yelp_credentials ['api-key'], timeout_s=5.0)\n",
        "\n"
      ],
      "metadata": {
        "id": "MoQfwIVWCJjU"
      },
      "execution_count": null,
      "outputs": []
    },
    {
      "cell_type": "code",
      "source": [
        "#define API cell parameters and output file path\n",
        "LOCATION = 'Greenville, SC'\n",
        "TERM = 'Sushi'\n",
        "JSON_FILE = '/Data/results_SC_Sushi.json'\n"
      ],
      "metadata": {
        "id": "07T5qkIX-FtQ"
      },
      "execution_count": null,
      "outputs": []
    },
    {
      "cell_type": "code",
      "source": [
        "#display the destination file path\n",
        "print(f'Data will be saved to:{JSON_FILE}')"
      ],
      "metadata": {
        "id": "wzBjErki-sj2",
        "colab": {
          "base_uri": "https://localhost:8080/"
        },
        "outputId": "c41c8abb-3b44-47ff-ad2d-b0e44d789840"
      },
      "execution_count": null,
      "outputs": [
        {
          "output_type": "stream",
          "name": "stdout",
          "text": [
            "Data will be saved to:/Data/results_SC_Sushi.json\n"
          ]
        }
      ]
    },
    {
      "cell_type": "code",
      "source": [
        "#check if JSON_FILE exists and create if it doesn't\n",
        "if not os.path.isfile (JSON_FILE):\n",
        "\n",
        "  #create the directory\n",
        "  os.makedirs (os.path.dirname(JSON_FILE), exist_ok = True)\n",
        "\n",
        "  # confirm and save an empty list on the file\n",
        "  print(f'[i]{JSON_FILE}not found, saving empty list on file')\n",
        "  with open(JSON_FILE, 'w') as file:\n",
        "    json.dump([], file)\n",
        "\n",
        "else:\n",
        "  #ifnrom the user if the file already exists\n",
        "  print(f'[i]{JSON_FILE} already exists.')\n"
      ],
      "metadata": {
        "id": "aWTZTCpT-zci",
        "colab": {
          "base_uri": "https://localhost:8080/"
        },
        "outputId": "87bc9b7f-9b87-4322-af4b-bfdf6194a5ec"
      },
      "execution_count": null,
      "outputs": [
        {
          "output_type": "stream",
          "name": "stdout",
          "text": [
            "[i]/Data/results_SC_Sushi.jsonnot found, saving empty list on file\n"
          ]
        }
      ]
    },
    {
      "cell_type": "code",
      "source": [
        "#load previous results and set offset based on the number of results\n",
        "with open (JSON_FILE, 'r') as file:\n",
        "  previous_results = json.load (file)\n",
        "\n",
        "n_results = len(previous_results)\n",
        "\n",
        "print(f'{n_results}previous results found')"
      ],
      "metadata": {
        "id": "oBP_HCXw_utm",
        "colab": {
          "base_uri": "https://localhost:8080/"
        },
        "outputId": "c2f82bef-8435-498a-d78d-f4cc9e88d2d1"
      },
      "execution_count": null,
      "outputs": [
        {
          "output_type": "stream",
          "name": "stdout",
          "text": [
            "0previous results found\n"
          ]
        }
      ]
    },
    {
      "cell_type": "code",
      "source": [
        "results = yelp_api.search_query(location = LOCATION,\n",
        "                                term = TERM,\n",
        "                                offset = n_results)\n",
        "results.keys()"
      ],
      "metadata": {
        "id": "P8_iVcgoBVtC",
        "colab": {
          "base_uri": "https://localhost:8080/"
        },
        "outputId": "add026ae-b823-42f0-e8c9-5c4ab27fb91d"
      },
      "execution_count": null,
      "outputs": [
        {
          "output_type": "execute_result",
          "data": {
            "text/plain": [
              "dict_keys(['businesses', 'total', 'region'])"
            ]
          },
          "metadata": {},
          "execution_count": 10
        }
      ]
    },
    {
      "cell_type": "code",
      "source": [
        "#return how many results were found\n",
        "total_results = results ['total']\n",
        "total_results"
      ],
      "metadata": {
        "id": "zCGKHN2SAWhK",
        "colab": {
          "base_uri": "https://localhost:8080/"
        },
        "outputId": "0f1cbd67-4abd-4e6f-a8ad-d5c0a87ed992"
      },
      "execution_count": null,
      "outputs": [
        {
          "output_type": "execute_result",
          "data": {
            "text/plain": [
              "110"
            ]
          },
          "metadata": {},
          "execution_count": 11
        }
      ]
    },
    {
      "cell_type": "code",
      "source": [
        "business_results = results ['businesses']\n",
        "\n",
        "#specify the filename where you want to save the data\n",
        "json_file_path = JSON_FILE"
      ],
      "metadata": {
        "id": "YQDa9azKAc4_"
      },
      "execution_count": null,
      "outputs": []
    },
    {
      "cell_type": "code",
      "source": [
        "# save the business data\n",
        "with open (json_file_path, \"w\") as file:\n",
        "  json.dump(business_results, file, indent = 4)\n",
        "  #business_data was replaced with business_results"
      ],
      "metadata": {
        "id": "bAouyfLvB_ew"
      },
      "execution_count": null,
      "outputs": []
    },
    {
      "cell_type": "code",
      "source": [
        "#indent = 4 means\n",
        "# save te date in this format\n",
        "# key: value,\n",
        "# key: value,\n",
        "# key: value,\n",
        "# key: value,\n",
        "#kasi sabi ko = 4\n",
        "\n"
      ],
      "metadata": {
        "id": "flL_TNFzCV-r"
      },
      "execution_count": null,
      "outputs": []
    },
    {
      "cell_type": "code",
      "source": [
        "#how many details we get?\n",
        "results_per_page = len(business_results)\n",
        "\n",
        "#business_data was replaced with business results\n",
        "print(f'number of results retrieved per page', results_per_page)\n"
      ],
      "metadata": {
        "id": "N41Mm4XLCtQP",
        "colab": {
          "base_uri": "https://localhost:8080/"
        },
        "outputId": "08df4900-ca01-42b1-9491-20e07e095f69"
      },
      "execution_count": null,
      "outputs": [
        {
          "output_type": "stream",
          "name": "stdout",
          "text": [
            "number of results retrieved per page 20\n"
          ]
        }
      ]
    },
    {
      "cell_type": "code",
      "source": [
        "# use the math.ceil to round up the total number of pages\n",
        "# n_pages = math.ceil(total_results/results_per_page)\n",
        "# print(f'total number of pages: {n_pages}')\n",
        "if results_per_page > 0:\n",
        "    n_pages = math.ceil(total_results / results_per_page)\n",
        "    print(f'Total number of pages: {n_pages}')\n",
        "else:\n",
        "    print(\"Error: The number of results per page must be greater than 0.\")\n",
        "# this fixes the div by 0 error"
      ],
      "metadata": {
        "id": "J-1kAOo1C-Az",
        "colab": {
          "base_uri": "https://localhost:8080/"
        },
        "outputId": "6231d34d-3262-47e9-a7dc-7f1c330ce94a"
      },
      "execution_count": null,
      "outputs": [
        {
          "output_type": "stream",
          "name": "stdout",
          "text": [
            "Total number of pages: 6\n"
          ]
        }
      ]
    },
    {
      "cell_type": "code",
      "source": [
        "# create a loop to extract the data\n",
        "for i in tqdm_notebook(range(1, total_results + 1)):\n",
        "  try:\n",
        "    time.sleep(0.2) # short delay to respect API rate limits\n",
        "\n",
        "    # load existing results to append new data\n",
        "    with open(JSON_FILE, 'r') as file:\n",
        "      previous_results = json.load(file)\n",
        "\n",
        "    # Fetch new results\n",
        "    new_results = yelp_api.search_query(location = LOCATION,\n",
        "                                        term = TERM,\n",
        "                                        offset = len(previous_results))\n",
        "\n",
        "    # append and save the updated results\n",
        "    updated_results = previous_results + new_results['businesses']\n",
        "    with open(JSON_FILE, 'w') as file:\n",
        "      json.dump(updated_results, file)\n",
        "\n",
        "  except Exception as e:\n",
        "    if 'Too Many Requests for url' in str(e):\n",
        "      print('Rate limit exceeded. Stopping data collection')\n",
        "      break # exit the loop if the rate limit is exceeded\n",
        "\n",
        "    else:\n",
        "      print(f'An error occured: {e}')\n",
        "      continue # continue to the next iteration in case of other errors"
      ],
      "metadata": {
        "colab": {
          "base_uri": "https://localhost:8080/",
          "height": 49,
          "referenced_widgets": [
            "a6f47c472d064c8c99de53939f84cbbc",
            "5a073c148d73468a8e8361900bc044c9",
            "93912d7b1906471da7ac1930e879547c",
            "8a3f62f6ea8745de86c1ec9d3fae57ed",
            "24ce3a761b5e484cae9a4646dddba2ca",
            "e32b497ed409406798691768bb7e1d45",
            "b48a1a4cc9b34e1ba7054c9ecefb0b08",
            "bb73130a7e6747caa01890e5aa9d5ef7",
            "772df978c13b42f483556eee4a9f4c79",
            "699c5843f0df4680bb1d59f15414e6ae",
            "54c38798cfec441996ab864bfdfa8c60"
          ]
        },
        "id": "XStLA-NrPKld",
        "outputId": "ce7beda3-fc8d-425f-93dd-41baf35f09c2"
      },
      "execution_count": null,
      "outputs": [
        {
          "output_type": "display_data",
          "data": {
            "text/plain": [
              "  0%|          | 0/110 [00:00<?, ?it/s]"
            ],
            "application/vnd.jupyter.widget-view+json": {
              "version_major": 2,
              "version_minor": 0,
              "model_id": "a6f47c472d064c8c99de53939f84cbbc"
            }
          },
          "metadata": {}
        }
      ]
    },
    {
      "cell_type": "code",
      "source": [
        "# load the final JSON file\n",
        "df = pd.read_json(JSON_FILE)\n",
        "\n",
        "# display the first 5 rows of the data\n",
        "df.head()"
      ],
      "metadata": {
        "id": "lBMK1RqfG9Jh"
      },
      "execution_count": null,
      "outputs": []
    },
    {
      "cell_type": "code",
      "source": [
        "# specify the directory\n",
        "directory = '/content/drive/MyDrive/Colab Notebooks/Data'\n",
        "filename = 'final_results_SC_suschi.csv.gz' # include the .csv.gz extension\n",
        "path = os.path.join(directory, filename)\n",
        "\n",
        "# ensure that the 'Data' directory exists\n",
        "os.makedirs(directory, exist_ok=True)\n",
        "\n",
        "# save the dataframe as a compressed csv file (to save space)\n",
        "df.to_csv(path, compression='gzip', index=False)"
      ],
      "metadata": {
        "id": "Wf3iUXyDMxv7"
      },
      "execution_count": null,
      "outputs": []
    },
    {
      "cell_type": "code",
      "source": [
        "# save as JSON file\n",
        "json_file = '/content/drive/MyDrive/Colab Notebooks/Data/final_results_SC_sushi.json'\n",
        "\n",
        "# save the json as a dataframe\n",
        "df.to_json(json_file, orient='records', lines=True)"
      ],
      "metadata": {
        "id": "hdDafXlVM0cu"
      },
      "execution_count": null,
      "outputs": []
    },
    {
      "cell_type": "code",
      "source": [
        "# save the file as gzip\n",
        "csv_gz_file = json_file.replace('.json', '.csv.gz')\n",
        "\n",
        "# save the dataframe as a compressed csv without the index\n",
        "df.to_csv(csv_gz_file, compression='gzip', index=False)"
      ],
      "metadata": {
        "id": "0ezM4DfYM2Vv"
      },
      "execution_count": null,
      "outputs": []
    }
  ]
}